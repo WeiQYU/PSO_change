{
 "cells": [
  {
   "cell_type": "code",
   "execution_count": 1,
   "metadata": {},
   "outputs": [
    {
     "ename": "SyntaxError",
     "evalue": "invalid syntax (PSO.py, line 306)",
     "output_type": "error",
     "traceback": [
      "Traceback \u001b[0;36m(most recent call last)\u001b[0m:\n",
      "\u001b[0m  File \u001b[1;32m~/anaconda3/envs/PSOlinux/lib/python3.12/site-packages/IPython/core/interactiveshell.py:3577\u001b[0m in \u001b[1;35mrun_code\u001b[0m\n    exec(code_obj, self.user_global_ns, self.user_ns)\u001b[0m\n",
      "\u001b[0;36m  Cell \u001b[0;32mIn[1], line 6\u001b[0;36m\n\u001b[0;31m    from PSO import *  # demo PSO codes!\u001b[0;36m\n",
      "\u001b[0;36m  File \u001b[0;32m~/PSO_change_test/PSO_HeWang/PSO_python_demo-main/PSO.py:306\u001b[0;36m\u001b[0m\n\u001b[0;31m    snr =\u001b[0m\n\u001b[0m          ^\u001b[0m\n\u001b[0;31mSyntaxError\u001b[0m\u001b[0;31m:\u001b[0m invalid syntax\n"
     ]
    }
   ],
   "source": [
    "import numpy as np\n",
    "import scipy.io as scio # load mat file\n",
    "from scipy.signal import welch, filtfilt\n",
    "from scipy.interpolate import interp1d\n",
    "\n",
    "from PSO import *  # demo PSO codes!\n",
    "\n",
    "import matplotlib.pyplot as plt"
   ]
  },
  {
   "cell_type": "code",
   "execution_count": null,
   "metadata": {},
   "outputs": [],
   "source": [
    "# load data\n",
    "TrainingData = scio.loadmat('TrainingData.mat')\n",
    "analysisData = scio.loadmat('analysisData.mat')\n",
    "\n",
    "## Preparing\n",
    "dataY = analysisData['dataVec'][0] # (2048,)\n",
    "# Data length\n",
    "nSamples = dataY.size # 2048\n",
    "# Sampling frequency\n",
    "Fs = analysisData['sampFreq'][0,0] # 1024\n",
    "\n",
    "# Search range of phase coefficients\n",
    "rmin = [40, 1, 1]\n",
    "rmax = [100, 50, 15]\n",
    "\n",
    "# Noise realization: PSD estimated from TrainingData\n",
    "dt = 1/Fs\n",
    "t = np.arange(0, nSamples*dt, dt) # (2048,)\n",
    "T = nSamples/Fs\n",
    "df = 1/T\n",
    "Nyq = Fs/2 # Nyquist frequency\n",
    "[f, pxx] = welch(TrainingData['trainData'][0], fs=Fs, \n",
    "                 window='hamming', nperseg=Fs/2, \n",
    "                 noverlap=None, nfft=None, \n",
    "                 detrend=False) \n",
    "# Why 'detrend=False'? \n",
    "# See https://github.com/scipy/scipy/issues/8045#issuecomment-337319294\n",
    "# or https://iphysresearch.github.io/blog/post/signal_processing/spectral_analysis_scipy/\n",
    "\n",
    "# Smooth the PSD estimate\n",
    "smthOrdr = 10\n",
    "b = np.ones(smthOrdr)/smthOrdr\n",
    "pxxSmth = filtfilt(b,1,pxx)\n",
    "# PSD must be supplied at DFT frequencies.\n",
    "kNyq = np.floor(nSamples/2) + 1\n",
    "posFreq = np.arange(0, kNyq)*Fs/nSamples\n",
    "psdPosFreq = interp1d(f,pxxSmth)(posFreq)"
   ]
  },
  {
   "cell_type": "code",
   "execution_count": null,
   "metadata": {},
   "outputs": [],
   "source": [
    "# Plot PSDs for the noise and noise + signal.\n",
    "plt.figure(dpi=200)\n",
    "plt.plot(f,pxx, label='noise')\n",
    "plt.plot(f,pxxSmth, label='noise (smoth)')\n",
    "[f, pxxY] = welch(dataY, fs=Fs, \n",
    "                 window='hamming', nperseg=256, \n",
    "                 noverlap=None, nfft=None, \n",
    "                 detrend=False)\n",
    "plt.plot(f,pxxY, label='noise + signal')\n",
    "plt.xlabel('Frequency (Hz)')\n",
    "plt.ylabel('PSD')\n",
    "plt.legend()\n",
    "plt.savefig('output_psd.png', dpi=200)\n",
    "plt.show()"
   ]
  },
  {
   "cell_type": "code",
   "execution_count": null,
   "metadata": {},
   "outputs": [],
   "source": [
    "# Number of independent PSO runs\n",
    "nRuns = 8"
   ]
  },
  {
   "cell_type": "code",
   "execution_count": null,
   "metadata": {},
   "outputs": [],
   "source": [
    "# calculate Amplitude of the signal (changed by ywq)\n",
    "deita = np.std(TrainingData['trainData'][0])\n",
    "dataYmax = np.max(dataY)\n",
    "dataYmin = np.min(dataY)\n",
    "A = (dataYmax - dataYmin) / 2\n",
    "A_signal = np.sqrt(A ** 2 - deita ** 2)\n",
    "print(\"振幅为：\", A_signal)"
   ]
  },
  {
   "cell_type": "code",
   "execution_count": null,
   "metadata": {},
   "outputs": [],
   "source": [
    "#define LLR of noise and data(changed by ywq)\n"
   ]
  },
  {
   "cell_type": "code",
   "execution_count": null,
   "metadata": {},
   "outputs": [],
   "source": [
    "## PSO\n",
    "# Input parameters for CRCBQCHRPPSO\n",
    "inParams = {\n",
    "    'dataX': t,\n",
    "    'dataY': dataY,\n",
    "    'dataXSq': t**2,\n",
    "    'dataXCb': t**3,\n",
    "    'psdPosFreq': psdPosFreq,\n",
    "    'sampFreq': Fs,\n",
    "    'rmin': rmin,\n",
    "    'rmax': rmax,\n",
    "    'A': A_signal,\n",
    "    'noise':TrainingData['trainData'][0],\n",
    "}\n",
    "# CRCBQCHRPPSOPSD runs PSO on the CRCBQCHRPFITFUNC fitness function. As an\n",
    "# illustration of usage, we change one of the PSO parameters from its\n",
    "# default value.\n",
    "outResults, outStruct = crcbqcpsopsd(inParams, {'maxSteps': 2000}, nRuns)"
   ]
  },
  {
   "cell_type": "code",
   "execution_count": null,
   "metadata": {},
   "outputs": [],
   "source": [
    "## Plots\n",
    "fig = plt.figure(dpi=200)\n",
    "ax = fig.add_subplot(111)\n",
    "a=ax.scatter(t, dataY, marker='.', s=5, #label='analysisData'\n",
    "             )\n",
    "a.set_label('analysisData')\n",
    "for lpruns in range(nRuns):\n",
    "    b,=ax.plot(t, outResults['allRunsOutput'][lpruns]['estSig'],\n",
    "             color=[51/255,255/255,153/255], lw=.4*2)\n",
    "b.set_label('estSig')\n",
    "c,=ax.plot(t, outResults['bestSig'], #label='BestSig',\n",
    "         color=[76/255,153/255,0/255],lw=.2*2)\n",
    "c.set_label('BestSig')\n",
    "plt.legend()\n",
    "plt.savefig('output_sig.png', dpi=200)\n",
    "plt.show()"
   ]
  },
  {
   "cell_type": "code",
   "execution_count": null,
   "metadata": {},
   "outputs": [],
   "source": [
    "# Print estimated parameters\n",
    "print('Estimated parameters: a1={}; a2={}; a3={}'.format(outResults['bestQcCoefs'][0],\n",
    "                                                         outResults['bestQcCoefs'][1],\n",
    "                                                         outResults['bestQcCoefs'][2]))\n",
    "for lpruns in range(nRuns):\n",
    "    print('\\nRun No.{}:\\nbestFitness={:.2f}'.format(lpruns+1, outStruct[lpruns]['bestFitness']) )\n",
    "    print('a1={:.4f}; a2={:.4f}; a3={:.4f}'.format(outResults['allRunsOutput'][lpruns]['qcCoefs'][0],\n",
    "                                       outResults['allRunsOutput'][lpruns]['qcCoefs'][1],\n",
    "                                       outResults['allRunsOutput'][lpruns]['qcCoefs'][2]))\n",
    "# Save\n",
    "np.save('output_results',outResults)\n",
    "np.save('output_struct',outStruct)"
   ]
  }
 ],
 "metadata": {
  "kernelspec": {
   "display_name": "PSOlinux",
   "language": "python",
   "name": "python3"
  },
  "language_info": {
   "codemirror_mode": {
    "name": "ipython",
    "version": 3
   },
   "file_extension": ".py",
   "mimetype": "text/x-python",
   "name": "python",
   "nbconvert_exporter": "python",
   "pygments_lexer": "ipython3",
   "version": "3.12.7"
  }
 },
 "nbformat": 4,
 "nbformat_minor": 4
}
