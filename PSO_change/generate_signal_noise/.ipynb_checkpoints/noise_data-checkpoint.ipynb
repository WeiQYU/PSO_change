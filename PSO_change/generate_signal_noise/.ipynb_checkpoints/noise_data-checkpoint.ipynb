{
 "cells": [
  {
   "cell_type": "code",
   "id": "initial_id",
   "metadata": {
    "collapsed": true,
    "jupyter": {
     "is_executing": true
    }
   },
   "source": [
    "# 掉包\n",
    "import numpy as np\n",
    "import matplotlib.pyplot as plt\n"
   ],
   "outputs": [],
   "execution_count": null
  },
  {
   "metadata": {},
   "cell_type": "code",
   "source": [
    "# 定义LISA噪音功率谱公式（其实在LISA的文章中已经给出了python包）\n",
    "def LISA_noise(A,f,coefs):\n",
    "    sc = A * f ** (-7 /3) * np.exp(-f ** coefs[0] + coefs[1]* f *np.sin(coefs[2])) * (1 + np.tanh(coefs[3] *(coefs[4] - f)))\n",
    "    poms = 1.5e-11 ** 2 * (1 + (2 * 1e-3 / f) ** 4)\n",
    "    pacc = 3e-15 * (1 + (0.4e-3/ f) ** 2) * (1 + (f / 8e-3) ** 4)\n",
    "    \n",
    "    sn = 10 / (3 * 2.5e9 ** 2) * (poms + (4 * pacc) / (2 * np.pi * f) ** 4) * (1 + (6 / 10) * (f / 19.09e-3) ** 2) + sc\n",
    "    \n",
    "    return sn"
   ],
   "id": "9fbac70a535da5ec",
   "outputs": [],
   "execution_count": null
  },
  {
   "metadata": {},
   "cell_type": "code",
   "source": [
    "nsamples = 100000\n",
    "samples = 50000\n",
    "\n",
    "timeVec = np.linspace(0, 1, nsamples)\n",
    "\n",
    "kNyq = nsamples // 2\n",
    "\n",
    "posfreqs = np.linspace(1e-5, 1, kNyq)\n",
    "print(posfreqs)"
   ],
   "id": "2a1619b768c0e080",
   "outputs": [],
   "execution_count": null
  }
 ],
 "metadata": {
  "kernelspec": {
   "display_name": "Python 3",
   "language": "python",
   "name": "python3"
  },
  "language_info": {
   "codemirror_mode": {
    "name": "ipython",
    "version": 2
   },
   "file_extension": ".py",
   "mimetype": "text/x-python",
   "name": "python",
   "nbconvert_exporter": "python",
   "pygments_lexer": "ipython2",
   "version": "2.7.6"
  }
 },
 "nbformat": 4,
 "nbformat_minor": 5
}
